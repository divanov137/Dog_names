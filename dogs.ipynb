{
 "cells": [
  {
   "cell_type": "markdown",
   "metadata": {},
   "source": [
    "The aim of this exercise is to find all dog names in the 20210103_hundenamen.csv dataset that have Levenshtein distance of 1 from the name \"Luca\". "
   ]
  },
  {
   "cell_type": "markdown",
   "metadata": {},
   "source": [
    "The Levenshtein distance is defined as the minimal number of single character manipulations necessary to transform one word into another. A single character manipulation is either adding, removing, or changing a character."
   ]
  },
  {
   "cell_type": "code",
   "execution_count": 1,
   "metadata": {},
   "outputs": [],
   "source": [
    "import pandas as pd"
   ]
  },
  {
   "cell_type": "code",
   "execution_count": 2,
   "metadata": {},
   "outputs": [],
   "source": [
    "df = pd.read_csv('20210103_hundenamen.csv')"
   ]
  },
  {
   "cell_type": "code",
   "execution_count": 3,
   "metadata": {},
   "outputs": [
    {
     "data": {
      "text/html": [
       "<div>\n",
       "<style scoped>\n",
       "    .dataframe tbody tr th:only-of-type {\n",
       "        vertical-align: middle;\n",
       "    }\n",
       "\n",
       "    .dataframe tbody tr th {\n",
       "        vertical-align: top;\n",
       "    }\n",
       "\n",
       "    .dataframe thead th {\n",
       "        text-align: right;\n",
       "    }\n",
       "</style>\n",
       "<table border=\"1\" class=\"dataframe\">\n",
       "  <thead>\n",
       "    <tr style=\"text-align: right;\">\n",
       "      <th></th>\n",
       "      <th>HUNDENAME</th>\n",
       "      <th>GEBURTSJAHR_HUND</th>\n",
       "      <th>GESCHLECHT_HUND</th>\n",
       "    </tr>\n",
       "  </thead>\n",
       "  <tbody>\n",
       "    <tr>\n",
       "      <th>0</th>\n",
       "      <td>Ituma</td>\n",
       "      <td>2011</td>\n",
       "      <td>w</td>\n",
       "    </tr>\n",
       "    <tr>\n",
       "      <th>1</th>\n",
       "      <td>\"Bo\" Bendy of Treegarden</td>\n",
       "      <td>2020</td>\n",
       "      <td>m</td>\n",
       "    </tr>\n",
       "    <tr>\n",
       "      <th>2</th>\n",
       "      <td>\"Bobby\" Lord Sinclair</td>\n",
       "      <td>2009</td>\n",
       "      <td>m</td>\n",
       "    </tr>\n",
       "    <tr>\n",
       "      <th>3</th>\n",
       "      <td>\"Buddy\" Fortheringhay's J.</td>\n",
       "      <td>2011</td>\n",
       "      <td>m</td>\n",
       "    </tr>\n",
       "    <tr>\n",
       "      <th>4</th>\n",
       "      <td>\"Fly\" Showring i fly for you</td>\n",
       "      <td>2015</td>\n",
       "      <td>w</td>\n",
       "    </tr>\n",
       "  </tbody>\n",
       "</table>\n",
       "</div>"
      ],
      "text/plain": [
       "                      HUNDENAME  GEBURTSJAHR_HUND GESCHLECHT_HUND\n",
       "0                         Ituma              2011               w\n",
       "1      \"Bo\" Bendy of Treegarden              2020               m\n",
       "2         \"Bobby\" Lord Sinclair              2009               m\n",
       "3    \"Buddy\" Fortheringhay's J.              2011               m\n",
       "4  \"Fly\" Showring i fly for you              2015               w"
      ]
     },
     "execution_count": 3,
     "metadata": {},
     "output_type": "execute_result"
    }
   ],
   "source": [
    "df.head()"
   ]
  },
  {
   "cell_type": "code",
   "execution_count": 4,
   "metadata": {},
   "outputs": [
    {
     "data": {
      "text/plain": [
       "8574"
      ]
     },
     "execution_count": 4,
     "metadata": {},
     "output_type": "execute_result"
    }
   ],
   "source": [
    "len(df)"
   ]
  },
  {
   "cell_type": "markdown",
   "metadata": {},
   "source": [
    "I construct my own function to check whether the Levenshtein distance between two input strings is 1. Alternatively, I could have used the inbuilt 'levenshtein' function from the 'enchant' module."
   ]
  },
  {
   "cell_type": "code",
   "execution_count": 5,
   "metadata": {},
   "outputs": [],
   "source": [
    "def levenshtein_dist_1(w1, w2='Luca'):\n",
    "    \"\"\"A function that takes two input words w1 and w2 and checks if the Levenshtein distance between them is 1.\"\"\"\n",
    "    # Levenshtein distance is independend of capitalisation.\n",
    "    word1 = w1.lower()\n",
    "    word2 = w2.lower()\n",
    "    # If one of the words is longer by more than 1 character, then the Levenshtein distance is greater than 1.\n",
    "    if len(word1) > len(word2) + 1 or len(word1) < len(word2) - 1:\n",
    "        return False\n",
    "    # If the two words have the same length, then Levenshtein distance is 1 only if they differ by a single letter\n",
    "    if len(word1) == len(word2):\n",
    "        if sum([word1[i]!=word2[i] for i in range(len(word1))]) == 1:\n",
    "            return True\n",
    "        else:\n",
    "            return False\n",
    "    # If word1 is longer than word2, then Levenshtein distance is 1 if removing a single character from word1 makes it\n",
    "    # the same as word2\n",
    "    if len(word1) == len(word2) + 1:\n",
    "        for i in range(len(word1)):\n",
    "            if word1[:i]+word1[i+1:]==word2:\n",
    "                return True\n",
    "        return False\n",
    "    # Same as before but with word1 and word2 reversed\n",
    "    if len(word2) == len(word1) + 1:\n",
    "        for i in range(len(word2)):\n",
    "            if word2[:i]+word2[i+1:]==word1:\n",
    "                return True\n",
    "        return False"
   ]
  },
  {
   "cell_type": "markdown",
   "metadata": {},
   "source": [
    "Use the 'apply' and 'unique' methods in pandas together with the manually defined function above in order to check all dog names that have Levenshtein distance of 1 from \"Luca\"."
   ]
  },
  {
   "cell_type": "code",
   "execution_count": 6,
   "metadata": {},
   "outputs": [
    {
     "data": {
      "text/plain": [
       "array(['Cuca', 'Lua', 'Luba', 'Lucas', 'Luce', 'Lucia', 'Lucy', 'Lula',\n",
       "       'Luma', 'Luna', 'Lupa', 'Yuca'], dtype=object)"
      ]
     },
     "execution_count": 6,
     "metadata": {},
     "output_type": "execute_result"
    }
   ],
   "source": [
    "df[df['HUNDENAME'].apply(levenshtein_dist_1)]['HUNDENAME'].unique()"
   ]
  },
  {
   "cell_type": "markdown",
   "metadata": {},
   "source": [
    "The answer is: 'Cuca', 'Lua', 'Luba', 'Lucas', 'Luce', 'Lucia', 'Lucy', 'Lula', 'Luma', 'Luna', 'Lupa', 'Yuca'."
   ]
  },
  {
   "cell_type": "code",
   "execution_count": null,
   "metadata": {},
   "outputs": [],
   "source": []
  }
 ],
 "metadata": {
  "kernelspec": {
   "display_name": "Python 3",
   "language": "python",
   "name": "python3"
  },
  "language_info": {
   "codemirror_mode": {
    "name": "ipython",
    "version": 3
   },
   "file_extension": ".py",
   "mimetype": "text/x-python",
   "name": "python",
   "nbconvert_exporter": "python",
   "pygments_lexer": "ipython3",
   "version": "3.7.1"
  }
 },
 "nbformat": 4,
 "nbformat_minor": 2
}
